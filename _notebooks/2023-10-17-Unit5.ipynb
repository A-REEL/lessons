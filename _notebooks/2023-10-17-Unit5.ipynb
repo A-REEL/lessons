{
  "cells": [
    {
      "cell_type": "markdown",
      "metadata": {
        "id": "Tk71r3Yc4wtF"
      },
      "source": [
        "---\n",
        "toc: true\n",
        "comments: true\n",
        "layout: post\n",
        "title: U5 | Classes\n",
        "description: while Loops, for Loops, Developing Algorithms Using Strings, Nested Iteration, Informal code analysis >>> AP Exam Weighting 17.5-22.5%\n",
        "type: plans\n",
        "courses: { csa: {week: 8} }\n",
        "authors: Aliya, Ekam, Emma, Raunak, Luna\n",
        "---"
      ]
    },
    {
      "cell_type": "markdown",
      "metadata": {
        "id": "UpUiUpuU4wtG"
      },
      "source": [
        "# U5 | Classes"
      ]
    },
    {
      "cell_type": "markdown",
      "metadata": {
        "id": "7DOsHCD_4wtH"
      },
      "source": [
        "---"
      ]
    },
    {
      "cell_type": "markdown",
      "metadata": {
        "id": "oq-cSrX04wtH"
      },
      "source": [
        "<h2> 5.1 Anatomy of a Class & 5.2 Constructors </h2>\n",
        "\n",
        "![](https://i.imgur.com/Hw4X7kt.jpg)"
      ]
    },
    {
      "cell_type": "markdown",
      "metadata": {
        "id": "uYNRiCJQ4wtH"
      },
      "source": [
        "<b>Methods vs Constructors </b>\n",
        "\n",
        "- Methods: functions defined within a class that preforms specific actions for objects of that class\n",
        "\n",
        "- Constructors: special methods in a class that are responsible for initializing the object's state when an instance of the class is created\n"
      ]
    },
    {
      "cell_type": "code",
      "execution_count": null,
      "metadata": {
        "vscode": {
          "languageId": "java"
        },
        "id": "M1DPKTfr4wtH"
      },
      "outputs": [],
      "source": [
        "// EXAMPLE CLASS\n",
        "public class Snack {\n",
        "    // Instance Variables\n",
        "    private String name;\n",
        "    private int calories;\n",
        "\n",
        "    // Default Constructor\n",
        "    public Snack() {\n",
        "        name = \"\";\n",
        "        calories = 0;\n",
        "    }\n",
        "\n",
        "    // Overloaded Constructor\n",
        "    public Snack (string n, int c) {\n",
        "        name = n;\n",
        "        calories = c;\n",
        "    }\n",
        "\n",
        "    // Accessor method 1\n",
        "    public String getName() {\n",
        "        return name;\n",
        "    }\n",
        "\n",
        "    // Access method 2\n",
        "    public int getCalories() {\n",
        "        return calories;\n",
        "    }\n",
        "\n",
        "    // Mutator method 1\n",
        "    public void setName(String n) {\n",
        "        name = n;\n",
        "    }\n",
        "\n",
        "    // Mutator method 2\n",
        "    public void setCalories(int c) {\n",
        "        calories = c;\n",
        "    }\n",
        "\n",
        "    private boolean canEat() {\n",
        "        return (calories < 150);\n",
        "    }\n",
        "}"
      ]
    },
    {
      "cell_type": "markdown",
      "metadata": {
        "id": "LhztCe-14wtI"
      },
      "source": [
        "<b>private vs public </b>\n",
        "\n",
        "- public: allows access from classes outside the declaring class (classes, constructors)\n",
        "\n",
        "- private: restricts access to the declaring class (instance variables)\n",
        "\n",
        "methods can be either public or private\n"
      ]
    },
    {
      "cell_type": "markdown",
      "metadata": {
        "id": "QtVAUjhq4wtJ"
      },
      "source": [
        "<mark>Popcorn Hack</mark>: Which of the following lines will cause an error?"
      ]
    },
    {
      "cell_type": "code",
      "execution_count": null,
      "metadata": {
        "vscode": {
          "languageId": "java"
        },
        "id": "LV1vMkbI4wtJ"
      },
      "outputs": [],
      "source": [
        "public class SnackDriver {\n",
        "    public static void main(String[] args) {\n",
        "        Snack choiceOne = new Snack(\"cookies\", 100);\n",
        "        Snack choiceTwo = new Snack();\n",
        "        System.out.println(choiceOne.getName());\n",
        "        System.out.println(choiceOne.getCalories());\n",
        "        choiceTwo.setName(\"chips\");\n",
        "        choiceTwo.calories = 150;\n",
        "    }\n",
        "}"
      ]
    },
    {
      "cell_type": "markdown",
      "metadata": {
        "id": "AVlDJf_I4wtJ"
      },
      "source": [
        "<b>Key term: Encapsulation</b>\n",
        "- A fundmanetal concept of OOP\n",
        "- Wraps the data (variable) and code that acts on the data (methods) in one unit (class)\n",
        "- In AP CSA we do this by:\n",
        "    - Writing a class\n",
        "    - <mark>Declaring the instance variables as private</mark> --> enforce constraints and ensure integrity of data\n",
        "    - Providing accessor (get) methods and modifier (set) methods to view and modify variables outside of the class"
      ]
    },
    {
      "cell_type": "code",
      "execution_count": null,
      "metadata": {
        "vscode": {
          "languageId": "java"
        },
        "id": "PQzM9T4s4wtJ"
      },
      "outputs": [],
      "source": [
        "public class Sport {\n",
        "    private String name;\n",
        "    private int numAthletes;\n",
        "\n",
        "    public Sport () {\n",
        "        name = \"\";\n",
        "        numAthletes = 0;\n",
        "    }\n",
        "\n",
        "    // Parameters in contructors are local variables\n",
        "    public Sport (String n, int numAth) {\n",
        "        name = n;\n",
        "        numAthletes = numAth;\n",
        "    }\n",
        "\n",
        "    // What if not all instance variables are set through parameters?\n",
        "    public Sport (String n) {\n",
        "        name = n;\n",
        "        numAthletes = 0;\n",
        "    }\n",
        "}\n",
        "\n",
        "Sport tbd = new Sport();\n",
        "Sport wp = new Sport(\"Water Polo\", 14);\n",
        "Sport wp = new Sport(\"Volleyball\");"
      ]
    },
    {
      "cell_type": "markdown",
      "metadata": {
        "id": "2phE-moL4wtJ"
      },
      "source": [
        "- if no constructor provided, Java provides default constructor: int (0), double (0.0), strings and other objects (null)"
      ]
    },
    {
      "cell_type": "markdown",
      "metadata": {
        "id": "It74utrS4wtJ"
      },
      "source": [
        "<h3>Hacks </h3>\n",
        "\n",
        "Create a Book class where each book has a title, genre, author, and number of pages. Include a default and overloaded constructor."
      ]
    },
    {
      "cell_type": "code",
      "execution_count": null,
      "metadata": {
        "vscode": {
          "languageId": "java"
        },
        "id": "cz2TC9YF4wtJ"
      },
      "outputs": [],
      "source": [
        "public class Book {\n",
        "    // Code here\n",
        "}"
      ]
    },
    {
      "cell_type": "markdown",
      "metadata": {
        "id": "XV4NkJ0J4wtK"
      },
      "source": [
        "<h2> 5.3 </h2>"
      ]
    },
    {
      "cell_type": "markdown",
      "metadata": {
        "id": "m5rcCeCM4wtK"
      },
      "source": [
        "<h2> 5.4 </h2>"
      ]
    },
    {
      "cell_type": "markdown",
      "metadata": {
        "id": "5vTK32dC4wtK"
      },
      "source": [
        "<h2> 5.5. Mutators / Setters</h2>"
      ]
    },
    {
      "cell_type": "markdown",
      "source": [
        "Purpose: Mutators are used to change the values of the fields (attributes) of an object.\n",
        "\n",
        "Access Control: Mutators are typically defined as public methods to allow external code to modify the object's state.\n",
        "\n",
        "Naming Convention: The method names for mutators usually start with \"set\" followed by the name of the field they modify.\n",
        "\n",
        "Parameterized: Mutators take one or more parameters that represent the new values for the fields.\n",
        "\n",
        "Return Type: Mutators are usually of type void, as they don't return a value, but they modify the object's state.\n",
        "\n",
        "Encapsulation: Mutators are an essential part of encapsulation, which helps to protect the object's state by controlling access through methods.\n",
        "\n",
        "Validation: Mutators often include validation logic to ensure that the new values being set are within acceptable bounds or meet specific criteria.\n",
        "\n",
        "Example Usage: Mutator for setting the age of a Person object might look like: public void setAge(int newAge) {...}.\n",
        "\n",
        "Chaining: Mutators can be chained together in a single line for more fluent and concise code, e.g., person.setName(\"John\").setAge(30);.\n",
        "\n",
        "Immutable Objects: In some cases, mutators are not used, and instead, a new object with modified values is created. This approach is common in creating immutable objects in Java."
      ],
      "metadata": {
        "id": "DvVQA8DOTMCx"
      }
    },
    {
      "cell_type": "markdown",
      "source": [
        "### Example"
      ],
      "metadata": {
        "id": "QmqfVAPnWYDp"
      }
    },
    {
      "cell_type": "code",
      "source": [
        "public class UserAccount {\n",
        "    private String username;\n",
        "    private String password;\n",
        "    private boolean isLoggedIn;\n",
        "\n",
        "    public UserAccount(String username, String password) {\n",
        "        this.username = username;\n",
        "        this.password = password;\n",
        "        this.isLoggedIn = false;\n",
        "    }\n",
        "\n",
        "    // Mutator for setting the username\n",
        "    public void setUsername(String newUsername) {\n",
        "        this.username = newUsername;\n",
        "    }\n",
        "\n",
        "    // Mutator for setting the password\n",
        "    public void setPassword(String newPassword) {\n",
        "        this.password = newPassword;\n",
        "    }\n",
        "\n",
        "    // Mutator for logging in\n",
        "    public void login(String enteredUsername, String enteredPassword) {\n",
        "        if (enteredUsername.equals(username) && enteredPassword.equals(password)) {\n",
        "            isLoggedIn = true;\n",
        "            System.out.println(\"Login successful. Welcome, \" + username + \"!\");\n",
        "        } else {\n",
        "            System.out.println(\"Login failed. Please check your username and password.\");\n",
        "        }\n",
        "    }\n",
        "\n",
        "    // Mutator for logging out\n",
        "    public void logout() {\n",
        "        isLoggedIn = false;\n",
        "        System.out.println(\"Logged out successfully.\");\n",
        "    }\n",
        "\n",
        "    // Accessor for checking if the user is logged in\n",
        "    public boolean isLoggedIn() {\n",
        "        return isLoggedIn;\n",
        "    }\n",
        "\n",
        "    public static void main(String[] args) {\n",
        "        // Create a UserAccount\n",
        "        UserAccount userAccount = new UserAccount(\"alice\", \"password123\");\n",
        "\n",
        "        // Attempt to log in\n",
        "        userAccount.login(\"alice\", \"password123\");\n",
        "\n",
        "        // Check if the user is logged in\n",
        "        if (userAccount.isLoggedIn()) {\n",
        "            // Access the Scrum board or other features here\n",
        "            System.out.println(\"Accessing Scrum boards...\");\n",
        "        } else {\n",
        "            System.out.println(\"Access denied. Please log in.\");\n",
        "        }\n",
        "\n",
        "        // Log out\n",
        "        userAccount.logout();\n",
        "    }\n",
        "}"
      ],
      "metadata": {
        "id": "0IkL08CNTDMK"
      },
      "execution_count": null,
      "outputs": []
    },
    {
      "cell_type": "markdown",
      "source": [
        "### Hacks\n",
        "\n",
        "Create a Java class BankAccount to represent a simple bank account. This class should have the following attributes:\n",
        "\n",
        "- accountHolder (String): The name of the account holder.\n",
        "balance (double): The current balance in the account.\n",
        "Implement the following mutator (setter) methods for the BankAccount class:\n",
        "\n",
        "- setAccountHolder(String name): Sets the name of the account holder.\n",
        "- deposit(double amount): Deposits a given amount into the account.\n",
        "- withdraw(double amount): Withdraws a given amount from the account, but only if the withdrawal amount is less than or equal to the current balance.\n",
        "\n",
        "Ensure that the balance is never negative."
      ],
      "metadata": {
        "id": "MLD3uy1RYuTZ"
      }
    },
    {
      "cell_type": "code",
      "source": [
        "public class BankAccount {\n",
        "    private String accountHolder;\n",
        "    private double balance;\n",
        "\n",
        "    // Constructor\n",
        "    public BankAccount(String accountHolder, double balance) {\n",
        "        // Initialize the account holder and balance attributes\n",
        "        this.accountHolder = accountHolder;\n",
        "        this.balance = balance;\n",
        "    }\n",
        "\n",
        "    // Implement the setAccountHolder method\n",
        "    public void setAccountHolder(String name) {\n",
        "        // Add code to set the account holder's name\n",
        "    }\n",
        "\n",
        "    // Implement the deposit method\n",
        "    public void deposit(double amount) {\n",
        "        // Add code to deposit the specified amount into the account\n",
        "    }\n",
        "\n",
        "    // Implement the withdraw method\n",
        "    public void withdraw(double amount) {\n",
        "        // Add code to withdraw the specified amount from the account\n",
        "        // Ensure that the balance is never negative\n",
        "    }\n",
        "\n",
        "    public static void main(String[] args) {\n",
        "        // Test the BankAccount class with sample operations\n",
        "        // Create an instance of BankAccount\n",
        "        BankAccount account = new BankAccount(\"John Doe\", 1000.0);\n",
        "\n",
        "        // Test the mutator methods\n",
        "        account.setAccountHolder(\"Jane Doe\");\n",
        "        account.deposit(500.0);\n",
        "        account.withdraw(200.0);\n",
        "\n",
        "        // Print the updated account details\n",
        "        System.out.println(\"Account holder: \" + account.accountHolder);\n",
        "        System.out.println(\"Current balance: \" + account.balance);\n",
        "    }\n",
        "}\n"
      ],
      "metadata": {
        "id": "qZ8LkNJJY9KL"
      },
      "execution_count": null,
      "outputs": []
    },
    {
      "cell_type": "markdown",
      "metadata": {
        "id": "Peyyl8Ox4wtK"
      },
      "source": [
        "<h2> 5.6 Writing Methods </h2>"
      ]
    },
    {
      "cell_type": "markdown",
      "source": [
        "- Method Declaration: Define methods using the method keyword, specifying return type, method name, and parameters.\n",
        "- Method Parameters: Methods can take input parameters.\n",
        "- Return Statement: Use the return statement to return a value from a method.\n",
        "- Method Overloading: You can have multiple methods with the same name but different parameter lists.\n",
        "- Static Methods: Static methods are associated with the class rather than instances.\n",
        "- Instance Methods: Instance methods are associated with an object of the class.\n",
        "- Access Modifiers: Use access modifiers like public, private, or protected to control visibility.\n",
        "- Method Invocation: Call methods using the dot notation on objects or classes (for static methods).\n",
        "- Recursive Methods: Methods can call themselves, creating recursive functions.\n",
        "- Varargs (Variable-Length Argument Lists): Use varargs to pass a variable number of arguments to a method."
      ],
      "metadata": {
        "id": "tbazNTesVlnd"
      }
    },
    {
      "cell_type": "markdown",
      "source": [
        "### Example"
      ],
      "metadata": {
        "id": "QtZTO0ARWTIP"
      }
    },
    {
      "cell_type": "code",
      "source": [
        "public class Calculator {\n",
        "    public int add(int operand1, int operand2) {\n",
        "        return operand1 + operand2;\n",
        "    }\n",
        "\n",
        "    public int subtract(int operand1, int operand2) {\n",
        "        return operand1 - operand2;\n",
        "    }\n",
        "\n",
        "    public int multiply(int operand1, int operand2) {\n",
        "        return operand1 * operand2;\n",
        "    }\n",
        "\n",
        "    public int divide(int dividend, int divisor) {\n",
        "        if (divisor != 0) {\n",
        "            return dividend / divisor;\n",
        "        } else {\n",
        "            throw new ArithmeticException(\"Division by zero is not allowed.\");\n",
        "        }\n",
        "    }\n",
        "\n",
        "    public static void main(String[] args) {\n",
        "        Calculator calculator = new Calculator();\n",
        "        int resultAdd = calculator.add(5, 3);\n",
        "        int resultSubtract = calculator.subtract(10, 7);\n",
        "        int resultMultiply = calculator.multiply(4, 6);\n",
        "        int resultDivide = calculator.divide(8, 2);\n",
        "\n",
        "        System.out.println(\"Addition: \" + resultAdd);\n",
        "        System.out.println(\"Subtraction: \" + resultSubtract);\n",
        "        System.out.println(\"Multiplication: \" + resultMultiply);\n",
        "        System.out.println(\"Division: \" + resultDivide);\n",
        "    }\n",
        "}\n"
      ],
      "metadata": {
        "id": "KiOmNj-WWPx2"
      },
      "execution_count": null,
      "outputs": []
    },
    {
      "cell_type": "markdown",
      "source": [
        "### Hacks\n",
        "\n",
        "Create a Java class MathUtility with a set of utility methods for mathematical operations. Implement the following methods:\n",
        "\n",
        "- calculateAverage(double[] numbers): Calculate the average of an array of numbers.\n",
        "- isPrime(int number): Check if a given integer is prime.\n",
        "- findFactors(int number): Find and return an array of factors for a given integer.\n",
        "Include proper error handling for edge cases and invalid input."
      ],
      "metadata": {
        "id": "X8TrviaRZABg"
      }
    },
    {
      "cell_type": "code",
      "source": [
        "public class MathUtility {\n",
        "    // Implement the calculateAverage method\n",
        "    public double calculateAverage(double[] numbers) {\n",
        "        // Add code to calculate and return the average of the numbers\n",
        "    }\n",
        "\n",
        "    // Implement the isPrime method\n",
        "    public boolean isPrime(int number) {\n",
        "        // Add code to check if the given number is prime\n",
        "    }\n",
        "\n",
        "    // Implement the findFactors method\n",
        "    public int[] findFactors(int number) {\n",
        "        // Add code to find and return the factors of the given number\n",
        "    }\n",
        "\n",
        "    public static void main(String[] args) {\n",
        "        // Test the MathUtility class with sample mathematical operations\n",
        "        MathUtility mathUtility = new MathUtility();\n",
        "\n",
        "        // Test the utility methods\n",
        "        double[] numbers = {1, 2, 3, 4, 5, 6};\n",
        "        double average = mathUtility.calculateAverage(numbers);\n",
        "        System.out.println(\"Average of the numbers: \" + average);\n",
        "\n",
        "        int numberToCheck = 17;\n",
        "        boolean isPrime = mathUtility.isPrime(numberToCheck);\n",
        "        System.out.println(numberToCheck + \" is prime: \" + isPrime);\n",
        "\n",
        "        int numberToFactor = 12;\n",
        "        int[] factors = mathUtility.findFactors(numberToFactor);\n",
        "        System.out.print(\"Factors of \" + numberToFactor + \": \");\n",
        "        for (int factor : factors) {\n",
        "            System.out.print(factor + \" \");\n",
        "        }\n",
        "    }\n",
        "}"
      ],
      "metadata": {
        "id": "eviU1V0YZMtP"
      },
      "execution_count": null,
      "outputs": []
    },
    {
      "cell_type": "markdown",
      "metadata": {
        "id": "4uU_SzyK4wtK"
      },
      "source": [
        "<h2> 5.7 </h2>"
      ]
    },
    {
      "cell_type": "markdown",
      "metadata": {
        "id": "Uli-U5We4wtK"
      },
      "source": [
        "<h2> 5.8 </h2>"
      ]
    },
    {
      "cell_type": "markdown",
      "metadata": {
        "id": "Xuj9qtZb4wtK"
      },
      "source": [
        "<h2> 5.9 </h2>"
      ]
    },
    {
      "cell_type": "markdown",
      "metadata": {
        "id": "Bp-8clf74wtK"
      },
      "source": [
        "<h2> 5.10 </h2>"
      ]
    }
  ],
  "metadata": {
    "kernelspec": {
      "display_name": "Python 3",
      "language": "python",
      "name": "python3"
    },
    "language_info": {
      "name": "python",
      "version": "3.11.5"
    },
    "colab": {
      "provenance": []
    }
  },
  "nbformat": 4,
  "nbformat_minor": 0
}
