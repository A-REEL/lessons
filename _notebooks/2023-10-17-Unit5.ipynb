{
 "cells": [
  {
   "cell_type": "markdown",
   "metadata": {},
   "source": [
    "---\n",
    "toc: true\n",
    "comments: true\n",
    "layout: post\n",
    "title: U5 | Classes\n",
    "description: while Loops, for Loops, Developing Algorithms Using Strings, Nested Iteration, Informal code analysis >>> AP Exam Weighting 17.5-22.5%\n",
    "type: plans\n",
    "courses: { csa: {week: 8} }\n",
    "authors: Aliya, Ekam, Emma, Raunak, Luna\n",
    "---"
   ]
  },
  {
   "cell_type": "markdown",
   "metadata": {},
   "source": [
    "# U5 | Classes"
   ]
  },
  {
   "cell_type": "markdown",
   "metadata": {},
   "source": [
    "---"
   ]
  },
  {
   "cell_type": "markdown",
   "metadata": {},
   "source": [
    "<h2> 5.1 Anatomy of a Class & 5.2 Constructors </h2>\n",
    "\n",
    "![](https://i.imgur.com/Hw4X7kt.jpg)"
   ]
  },
  {
   "cell_type": "markdown",
   "metadata": {},
   "source": [
    "<b>Methods vs Constructors </b>\n",
    "\n",
    "- Methods: functions defined within a class that preforms specific actions for objects of that class\n",
    "\n",
    "- Constructors: special methods in a class that are responsible for initializing the object's state when an instance of the class is created \n"
   ]
  },
  {
   "cell_type": "code",
   "execution_count": null,
   "metadata": {
    "vscode": {
     "languageId": "java"
    }
   },
   "outputs": [],
   "source": [
    "// EXAMPLE CLASS\n",
    "public class Snack {\n",
    "    // Instance Variables  \n",
    "    private String name; \n",
    "    private int calories;\n",
    "\n",
    "    // Default Constructor \n",
    "    public Snack() {\n",
    "        name = \"\";\n",
    "        calories = 0;\n",
    "    }\n",
    "\n",
    "    // Overloaded Constructor \n",
    "    public Snack (string n, int c) {\n",
    "        name = n; \n",
    "        calories = c;\n",
    "    }\n",
    "\n",
    "    // Accessor method 1 \n",
    "    public String getName() {\n",
    "        return name;\n",
    "    }\n",
    "\n",
    "    // Access method 2 \n",
    "    public int getCalories() {\n",
    "        return calories; \n",
    "    }\n",
    "\n",
    "    // Mutator method 1 \n",
    "    public void setName(String n) {\n",
    "        name = n;\n",
    "    }\n",
    "\n",
    "    // Mutator method 2 \n",
    "    public void setCalories(int c) {\n",
    "        calories = c;\n",
    "    }\n",
    "\n",
    "    private boolean canEat() {\n",
    "        return (calories < 150);\n",
    "    }\n",
    "}"
   ]
  },
  {
   "cell_type": "markdown",
   "metadata": {},
   "source": [
    "<b>private vs public </b>\n",
    "\n",
    "- public: allows access from classes outside the declaring class (classes, constructors)\n",
    "\n",
    "- private: restricts access to the declaring class (instance variables)\n",
    "\n",
    "methods can be either public or private\n"
   ]
  },
  {
   "cell_type": "markdown",
   "metadata": {},
   "source": [
    "<mark>Popcorn Hack</mark>: Which of the following lines will cause an error?"
   ]
  },
  {
   "cell_type": "code",
   "execution_count": null,
   "metadata": {
    "vscode": {
     "languageId": "java"
    }
   },
   "outputs": [],
   "source": [
    "public class SnackDriver {\n",
    "    public static void main(String[] args) {\n",
    "        Snack choiceOne = new Snack(\"cookies\", 100);\n",
    "        Snack choiceTwo = new Snack();\n",
    "        System.out.println(choiceOne.getName());\n",
    "        System.out.println(choiceOne.getCalories());\n",
    "        choiceTwo.setName(\"chips\");\n",
    "        choiceTwo.calories = 150;\n",
    "    }\n",
    "}"
   ]
  },
  {
   "cell_type": "markdown",
   "metadata": {},
   "source": [
    "<b>Key term: Encapsulation</b>\n",
    "- A fundmanetal concept of OOP \n",
    "- Wraps the data (variable) and code that acts on the data (methods) in one unit (class)\n",
    "- In AP CSA we do this by:\n",
    "    - Writing a class\n",
    "    - <mark>Declaring the instance variables as private</mark> --> enforce constraints and ensure integrity of data\n",
    "    - Providing accessor (get) methods and modifier (set) methods to view and modify variables outside of the class "
   ]
  },
  {
   "cell_type": "code",
   "execution_count": null,
   "metadata": {
    "vscode": {
     "languageId": "java"
    }
   },
   "outputs": [],
   "source": [
    "public class Sport {\n",
    "    private String name;\n",
    "    private int numAthletes;\n",
    "\n",
    "    public Sport () {\n",
    "        name = \"\";\n",
    "        numAthletes = 0;\n",
    "    }\n",
    "\n",
    "    // Parameters in contructors are local variables \n",
    "    public Sport (String n, int numAth) {\n",
    "        name = n; \n",
    "        numAthletes = numAth; \n",
    "    }\n",
    "\n",
    "    // What if not all instance variables are set through parameters?\n",
    "    public Sport (String n) {\n",
    "        name = n; \n",
    "        numAthletes = 0;\n",
    "    }\n",
    "}\n",
    "\n",
    "Sport tbd = new Sport();\n",
    "Sport wp = new Sport(\"Water Polo\", 14);\n",
    "Sport wp = new Sport(\"Volleyball\");"
   ]
  },
  {
   "cell_type": "markdown",
   "metadata": {},
   "source": [
    "- if no constructor provided, Java provides default constructor: int (0), double (0.0), strings and other objects (null)"
   ]
  },
  {
   "cell_type": "markdown",
   "metadata": {},
   "source": [
    "<h3>Hacks </h3>\n",
    "\n",
    "Create a Book class where each book has a title, genre, author, and number of pages. Include a default and overloaded constructor."
   ]
  },
  {
   "cell_type": "code",
   "execution_count": null,
   "metadata": {
    "vscode": {
     "languageId": "java"
    }
   },
   "outputs": [],
   "source": [
    "public class Book {\n",
    "    // Code here\n",
    "}"
   ]
  },
  {
   "cell_type": "markdown",
   "metadata": {},
   "source": [
    "<h2> 5.3 </h2>"
   ]
  },
  {
   "cell_type": "markdown",
   "metadata": {},
   "source": [
    "<h2> 5.4 </h2>"
   ]
  },
  {
   "cell_type": "markdown",
   "metadata": {},
   "source": [
    "<h2> 5.5 </h2>"
   ]
  },
  {
   "cell_type": "markdown",
   "metadata": {},
   "source": [
    "<h2> 5.6 </h2>"
   ]
  },
  {
   "cell_type": "markdown",
   "metadata": {},
   "source": [
    "<h2> 5.7 </h2>"
   ]
  },
  {
   "cell_type": "markdown",
   "metadata": {},
   "source": [
    "<h2> 5.8 </h2>"
   ]
  },
  {
   "cell_type": "markdown",
   "metadata": {},
   "source": [
    "<h2> 5.9 </h2>"
   ]
  },
  {
   "cell_type": "markdown",
   "metadata": {},
   "source": [
    "<h2> 5.10 </h2>"
   ]
  }
 ],
 "metadata": {
  "kernelspec": {
   "display_name": "Python 3",
   "language": "python",
   "name": "python3"
  },
  "language_info": {
   "name": "python",
   "version": "3.11.5"
  }
 },
 "nbformat": 4,
 "nbformat_minor": 2
}
