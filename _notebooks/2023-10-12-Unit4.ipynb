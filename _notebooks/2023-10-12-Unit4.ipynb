{
 "cells": [
  {
   "cell_type": "markdown",
   "metadata": {},
   "source": [
    "---\n",
    "toc: true\n",
    "comments: false\n",
    "layout: post\n",
    "title: U4 | Iteration\n",
    "description: while Loops, for Loops, Developing Algorithms Using Strings, Nested Iteration, Informal code analysis >>> AP Exam Weighting 17.5-22.5% \n",
    "type: plans\n",
    "courses: { csa: {week: 8} }\n",
    "authors: Aliya, Ekam, Emma, Raunak, Luna\n",
    "---"
   ]
  },
  {
   "cell_type": "markdown",
   "metadata": {},
   "source": [
    "# U4 | Iteration"
   ]
  },
  {
   "cell_type": "markdown",
   "metadata": {},
   "source": [
    "---"
   ]
  },
  {
   "cell_type": "markdown",
   "metadata": {},
   "source": [
    "# 4.1 while Loops"
   ]
  },
  {
   "cell_type": "markdown",
   "metadata": {},
   "source": [
    "---"
   ]
  },
  {
   "cell_type": "markdown",
   "metadata": {},
   "source": [
    "# 4.2 for Loops"
   ]
  },
  {
   "cell_type": "markdown",
   "metadata": {},
   "source": [
    "---"
   ]
  },
  {
   "attachments": {},
   "cell_type": "markdown",
   "metadata": {},
   "source": [
    "- Iterative statement that checks for condition\n",
    "- Repeatedly execute a a block of code as long as the condition is met\n",
    "- Condition specifies amount of times\n",
    "\n",
    "# for Loops vs. while Loops\n",
    "- while Loops: use when number of iterations is unknown\n",
    "- for Loops: use when number of iterations is known"
   ]
  },
  {
   "cell_type": "code",
   "execution_count": 1,
   "metadata": {
    "vscode": {
     "languageId": "java"
    }
   },
   "outputs": [
    {
     "name": "stdout",
     "output_type": "stream",
     "text": [
      "0\n",
      "1\n",
      "2\n",
      "3\n",
      "4\n"
     ]
    }
   ],
   "source": [
    "int i = 0;\n",
    "while (i < 5) {\n",
    "    System.out.println(i);\n",
    "    i++;\n",
    "}"
   ]
  },
  {
   "cell_type": "code",
   "execution_count": 2,
   "metadata": {
    "vscode": {
     "languageId": "java"
    }
   },
   "outputs": [
    {
     "name": "stdout",
     "output_type": "stream",
     "text": [
      "0\n",
      "1\n",
      "2\n",
      "3\n",
      "4\n"
     ]
    }
   ],
   "source": [
    "for (int i = 0; i < 5; i++) {\n",
    "    System.out.println(i);\n",
    "}"
   ]
  },
  {
   "attachments": {},
   "cell_type": "markdown",
   "metadata": {},
   "source": [
    "- Three parts in for loop header: variable initialization, Boolean (conditional) expression, and increment/decrement statement\n",
    "\n",
    "Question: Which part is which?\n",
    "\n",
    "- variable initialization (int i=0): sets variable before loop starts\n",
    "- Boolean (conditional) expression (i < 5): defines condition for loop to run, in this case, the loop continues as long as i is less than 5, so loops 5 times i 05\n",
    "- increment/decrement statement (i++): increases variable each time code block in the loop is executed, in this case it increases by 1\n",
    "- variable can be used in the code block for other various reasons besides specifying how many times the loop will repeat\n",
    "- Boolean (conditional) expression and increment/decrement statement together determine how many times the loop will repeat\n"
   ]
  },
  {
   "cell_type": "markdown",
   "metadata": {},
   "source": [
    "# 4.3 Developing Algorithms Using Strings"
   ]
  },
  {
   "cell_type": "markdown",
   "metadata": {},
   "source": [
    "---"
   ]
  },
  {
   "cell_type": "markdown",
   "metadata": {},
   "source": [
    "# 4.4 Nested Iteration"
   ]
  },
  {
   "cell_type": "markdown",
   "metadata": {},
   "source": [
    "---"
   ]
  },
  {
   "cell_type": "markdown",
   "metadata": {},
   "source": [
    "# 4.5 Informal Code Analysis\n",
    "\n",
    "<b>Learning objective</b>: Compute statement execution counts & informal run-time comparison of iterative statements \n",
    "\n",
    "<b>Essential Knowledge</b>: A statement execution count indicates the number of times a statement is executed by the program "
   ]
  },
  {
   "cell_type": "markdown",
   "metadata": {},
   "source": [
    "<h3> What IS informal code analysis? </h3>\n",
    "\n",
    "Answer: "
   ]
  },
  {
   "cell_type": "code",
   "execution_count": null,
   "metadata": {
    "vscode": {
     "languageId": "java"
    }
   },
   "outputs": [],
   "source": [
    "// CODE EXAMPLE #1 (for loop)\n",
    "public class InformalCodeAnalysis {\n",
    "    public static void main(String[] args) {\n",
    "        int count = 0;\n",
    "        for (int k = 0; k < 30; k++)\n",
    "        {\n",
    "            if (k % 3 == 0) // statement 1\n",
    "            {\n",
    "                count++; // statement 2 \n",
    "            }\n",
    "        }\n",
    "    }\n",
    "}"
   ]
  },
  {
   "cell_type": "markdown",
   "metadata": {},
   "source": [
    "<b>How many times will statement 1 execute? </b>\n",
    "\n",
    "Answer:\n",
    "\n",
    "<b>How many times will statement 2 execute?</b>\n",
    "\n",
    "Answer: "
   ]
  },
  {
   "cell_type": "code",
   "execution_count": null,
   "metadata": {
    "vscode": {
     "languageId": "java"
    }
   },
   "outputs": [],
   "source": [
    "// CODE EXAMPLE #2 (for loop)\n",
    "public class InformalCodeAnalysis {\n",
    "    public static void main(String[] args) {\n",
    "        int count = 0;\n",
    "        for (int k = 4; k < 30; k+=3)\n",
    "        {\n",
    "            count++; // statement 3\n",
    "        }\n",
    "    }\n",
    "}"
   ]
  },
  {
   "cell_type": "markdown",
   "metadata": {},
   "source": [
    "<b>How many times will statement 3 execute?</b>\n",
    "\n",
    "Answer: "
   ]
  },
  {
   "cell_type": "code",
   "execution_count": null,
   "metadata": {
    "vscode": {
     "languageId": "java"
    }
   },
   "outputs": [],
   "source": [
    "// Rewrite the code segment below to have a faster run-time based on statement execution counts\n",
    "for (int k = 0; k < 135; k++)\n",
    "{\n",
    "    if (k % 5 == 0)\n",
    "    {\n",
    "        System.out.println(k);\n",
    "    }\n",
    "}"
   ]
  },
  {
   "cell_type": "code",
   "execution_count": null,
   "metadata": {
    "vscode": {
     "languageId": "java"
    }
   },
   "outputs": [],
   "source": [
    "// CODE EXAMPLE #3 (while loop)\n",
    "\n",
    "int num = (int)(Math.random() * 10);\n",
    "while (num % 2 != 0)\n",
    "{\n",
    "    num = (int)(Math.random() * 10) // statement 4\n",
    "}"
   ]
  },
  {
   "cell_type": "markdown",
   "metadata": {},
   "source": [
    "<b>What is the min/max number of times statement 4 will execute?</b>\n",
    "\n",
    "Answer: "
   ]
  },
  {
   "cell_type": "code",
   "execution_count": null,
   "metadata": {
    "vscode": {
     "languageId": "java"
    }
   },
   "outputs": [],
   "source": [
    "// CODE EXAMPLE #4 (nested loop)\n",
    "\n",
    "for (int outer = 0; outer < 3; outer++)\n",
    "{\n",
    "    for (int inner = 0; inner < 4; inner++)\n",
    "    {\n",
    "        // statement #5\n",
    "    }\n",
    "}"
   ]
  },
  {
   "cell_type": "markdown",
   "metadata": {},
   "source": [
    "<b>How many times will statement #5 execute?</b>\n",
    "\n",
    "Answer: "
   ]
  },
  {
   "cell_type": "code",
   "execution_count": null,
   "metadata": {
    "vscode": {
     "languageId": "java"
    }
   },
   "outputs": [],
   "source": [
    "// CODE EXAMPLE #5 (nested loop)\n",
    "\n",
    "int k = 0;\n",
    "while (k < 5)\n",
    "{\n",
    "    int x = (int)(Math.random() * 6) + 1;\n",
    "    while (x != 6)\n",
    "    {\n",
    "        // statement #6\n",
    "        x = (int)(Math.random() * 6) + 1;\n",
    "    }\n",
    "    k++; \n",
    "}"
   ]
  },
  {
   "cell_type": "markdown",
   "metadata": {},
   "source": [
    "<b>How many times will statement #6 execute?</b>\n",
    "\n",
    "Answer: "
   ]
  },
  {
   "cell_type": "markdown",
   "metadata": {},
   "source": [
    "---"
   ]
  },
  {
   "cell_type": "markdown",
   "metadata": {},
   "source": [
    "# Hacks"
   ]
  },
  {
   "cell_type": "markdown",
   "metadata": {},
   "source": [
    "<h2>4.5</h2>"
   ]
  },
  {
   "cell_type": "markdown",
   "metadata": {},
   "source": [
    "\n",
    "<b>#1 How many times will statement #1 and statement #2 execute in the code segments below? </b>"
   ]
  },
  {
   "cell_type": "code",
   "execution_count": null,
   "metadata": {
    "vscode": {
     "languageId": "java"
    }
   },
   "outputs": [],
   "source": [
    "for (int k = 0; k < 1000; k++)\n",
    "{\n",
    "    // statement #1 \n",
    "}"
   ]
  },
  {
   "cell_type": "code",
   "execution_count": null,
   "metadata": {
    "vscode": {
     "languageId": "java"
    }
   },
   "outputs": [],
   "source": [
    "for (int k = 6; k < 50; k++)\n",
    "{\n",
    "    // statement #2\n",
    "}"
   ]
  },
  {
   "cell_type": "markdown",
   "metadata": {},
   "source": [
    "<b>#2 How many times will statement #3 execute for the code segment below?</b>"
   ]
  },
  {
   "cell_type": "code",
   "execution_count": null,
   "metadata": {
    "vscode": {
     "languageId": "java"
    }
   },
   "outputs": [],
   "source": [
    "int k = 1;\n",
    "while (k <=7)\n",
    "{\n",
    "    for (int z = 0; z < 4; z++)\n",
    "    {\n",
    "        // statement #3 \n",
    "    }\n",
    "    k++; \n",
    "}"
   ]
  },
  {
   "cell_type": "markdown",
   "metadata": {},
   "source": [
    "<b>#3 Create 3 seperate code segments that execute a statement 10 times using: </b>\n",
    "\n",
    "(a) a for loop\n",
    "\n",
    "(b) a while loop\n",
    "\n",
    "(c) a nested loop"
   ]
  },
  {
   "cell_type": "code",
   "execution_count": null,
   "metadata": {
    "vscode": {
     "languageId": "java"
    }
   },
   "outputs": [],
   "source": [
    "// 3a code "
   ]
  },
  {
   "cell_type": "code",
   "execution_count": null,
   "metadata": {
    "vscode": {
     "languageId": "java"
    }
   },
   "outputs": [],
   "source": [
    "// 3b code "
   ]
  },
  {
   "cell_type": "code",
   "execution_count": null,
   "metadata": {
    "vscode": {
     "languageId": "java"
    }
   },
   "outputs": [],
   "source": [
    "// 3c code "
   ]
  }
 ],
 "metadata": {
  "kernelspec": {
   "display_name": "Java",
   "language": "java",
   "name": "java"
  },
  "language_info": {
   "codemirror_mode": "java",
   "file_extension": ".jshell",
   "mimetype": "text/x-java-source",
   "name": "Java",
   "pygments_lexer": "java",
   "version": "12.0.2+10"
  }
 },
 "nbformat": 4,
 "nbformat_minor": 2
}
